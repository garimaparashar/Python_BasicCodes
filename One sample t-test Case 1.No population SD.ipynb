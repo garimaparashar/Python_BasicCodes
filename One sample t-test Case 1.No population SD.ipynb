{
 "cells": [
  {
   "cell_type": "code",
   "execution_count": 53,
   "metadata": {},
   "outputs": [],
   "source": [
    "import numpy as np\n",
    "from random import randint\n",
    "import statistics as stats\n",
    "import scipy.stats as ss"
   ]
  },
  {
   "cell_type": "code",
   "execution_count": 49,
   "metadata": {},
   "outputs": [],
   "source": [
    "# Generating a random sample with unknown population SD\n",
    "population =[]\n",
    "for i in range(0,1000):\n",
    "    n = randint(1,10000)\n",
    "    population.append(n)"
   ]
  },
  {
   "cell_type": "code",
   "execution_count": 50,
   "metadata": {},
   "outputs": [],
   "source": [
    "sample=[]\n",
    "sample = population[0:100]"
   ]
  },
  {
   "cell_type": "code",
   "execution_count": 51,
   "metadata": {},
   "outputs": [],
   "source": [
    "# Sample and population mean\n",
    "x  = stats.mean(sample)\n",
    "mu = stats.mean(population)\n",
    "\n",
    "#Sample length and SD\n",
    "n  = len(sample)\n",
    "s  = stats.stdev(sample)"
   ]
  },
  {
   "cell_type": "code",
   "execution_count": 57,
   "metadata": {
    "scrolled": true
   },
   "outputs": [],
   "source": [
    "# Calculating t-statistic\n",
    "t = (x-mu)/(s/np.sqrt(n))\n",
    "\n",
    "# Calculating critical value\n",
    "df = len(sample) - 1\n",
    "p = 1 - ss.t.cdf (t, df)\n",
    "\n",
    "alpha = 0.05"
   ]
  },
  {
   "cell_type": "code",
   "execution_count": 58,
   "metadata": {},
   "outputs": [
    {
     "name": "stdout",
     "output_type": "stream",
     "text": [
      "Failed to Reject Null Hypothesis\n"
     ]
    }
   ],
   "source": [
    "# Checking against alpha\n",
    "if p < alpha:\n",
    "   print(\"Reject Null Hypothesis\")\n",
    "else:\n",
    "   print(\"Failed to Reject Null Hypothesis\")"
   ]
  },
  {
   "cell_type": "code",
   "execution_count": null,
   "metadata": {},
   "outputs": [],
   "source": []
  }
 ],
 "metadata": {
  "kernelspec": {
   "display_name": "Python 3",
   "language": "python",
   "name": "python3"
  },
  "language_info": {
   "codemirror_mode": {
    "name": "ipython",
    "version": 3
   },
   "file_extension": ".py",
   "mimetype": "text/x-python",
   "name": "python",
   "nbconvert_exporter": "python",
   "pygments_lexer": "ipython3",
   "version": "3.7.6"
  }
 },
 "nbformat": 4,
 "nbformat_minor": 4
}
