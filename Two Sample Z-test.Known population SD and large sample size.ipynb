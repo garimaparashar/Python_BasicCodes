{
 "cells": [
  {
   "cell_type": "code",
   "execution_count": 1,
   "metadata": {},
   "outputs": [],
   "source": [
    "import numpy as np\n",
    "from random import randint\n",
    "import statistics as stats\n",
    "import scipy.stats as ss"
   ]
  },
  {
   "cell_type": "code",
   "execution_count": 2,
   "metadata": {},
   "outputs": [],
   "source": [
    "# Generating a random sample with unknown population SD\n",
    "population_a =[]\n",
    "for i in range(0,1000):\n",
    "    n = randint(1,10000)\n",
    "    population_a.append(n)\n",
    "\n",
    "population_b =[]\n",
    "for i in range(0,500):\n",
    "    n = randint(1,90000)\n",
    "    population_b.append(n)    \n",
    "    \n",
    "# Generating two random independent samples with unknown population SD\n",
    "sample_a =[]\n",
    "sample_a = population_a[0:25]\n",
    "\n",
    "sample_b =[]\n",
    "sample_b = population_b[0:25]"
   ]
  },
  {
   "cell_type": "code",
   "execution_count": 4,
   "metadata": {},
   "outputs": [
    {
     "name": "stdout",
     "output_type": "stream",
     "text": [
      "Reject Null Hypothesis\n"
     ]
    }
   ],
   "source": [
    "# Sample means and SDs\n",
    "x_a = stats.mean(sample_a)\n",
    "x_b = stats.mean(sample_b)\n",
    "s_a = stats.stdev(sample_a)\n",
    "s_b = stats.stdev(sample_b)\n",
    "S_a = stats.stdev(population_a)\n",
    "S_b = stats.stdev(population_b)\n",
    "n_a = len(sample_a)\n",
    "n_b = len(sample_b)\n",
    "\n",
    "# Calculating the SD of the distribution of differences of independent sample means\n",
    "s_p = np.sqrt(((S_a**2)/n_a) + ((S_b**2)/n_b)) \n",
    "\n",
    "# Calculationg t-statistic\n",
    "z = (x_a - x_b) - 0 /(s_p)\n",
    "\n",
    "# Calculating Prob\n",
    "p_l = ss.norm.cdf(z)/2\n",
    "p_r = 1 - ss.norm.cdf(z)/2\n",
    "\n",
    "# Defining alpha\n",
    "alpha = 0.05\n",
    "\n",
    "# Result\n",
    "if p_r > (alpha/2) and p_l > (alpha/2):\n",
    "   print(\"Failed to Reject Null Hypothesis\")\n",
    "else:\n",
    "    print(\"Reject Null Hypothesis\")"
   ]
  },
  {
   "cell_type": "code",
   "execution_count": null,
   "metadata": {},
   "outputs": [],
   "source": []
  }
 ],
 "metadata": {
  "kernelspec": {
   "display_name": "Python 3",
   "language": "python",
   "name": "python3"
  },
  "language_info": {
   "codemirror_mode": {
    "name": "ipython",
    "version": 3
   },
   "file_extension": ".py",
   "mimetype": "text/x-python",
   "name": "python",
   "nbconvert_exporter": "python",
   "pygments_lexer": "ipython3",
   "version": "3.7.6"
  }
 },
 "nbformat": 4,
 "nbformat_minor": 4
}
