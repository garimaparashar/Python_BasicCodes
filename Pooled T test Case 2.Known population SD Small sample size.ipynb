{
 "cells": [
  {
   "cell_type": "code",
   "execution_count": 8,
   "metadata": {},
   "outputs": [],
   "source": [
    "import numpy as np\n",
    "from random import randint\n",
    "import statistics as stats\n",
    "import scipy.stats as ss"
   ]
  },
  {
   "cell_type": "code",
   "execution_count": 17,
   "metadata": {},
   "outputs": [],
   "source": [
    "# Generating a random sample with unknown population SD\n",
    "population_a =[]\n",
    "for i in range(0,1000):\n",
    "    n = randint(1,10000)\n",
    "    population_a.append(n)\n",
    "\n",
    "population_b =[]\n",
    "for i in range(0,500):\n",
    "    n = randint(1,90000)\n",
    "    population_b.append(n)    \n",
    "    \n",
    "# Generating two random independent samples with unknown population SD\n",
    "sample_a =[]\n",
    "sample_a = population_a[0:25]\n",
    "\n",
    "sample_b =[]\n",
    "sample_b = population_b[0:25]"
   ]
  },
  {
   "cell_type": "code",
   "execution_count": 18,
   "metadata": {},
   "outputs": [
    {
     "name": "stdout",
     "output_type": "stream",
     "text": [
      "Unequal population variances: Aspin-Welch unequal variance\n"
     ]
    }
   ],
   "source": [
    "# Sample means and SDs\n",
    "x_a = stats.mean(sample_a)\n",
    "x_b = stats.mean(sample_b)\n",
    "s_a = stats.stdev(sample_a)\n",
    "s_b = stats.stdev(sample_b)\n",
    "S_a = stats.stdev(population_a)\n",
    "S_b = stats.stdev(population_b)\n",
    "n_a = len(sample_a)\n",
    "n_b = len(sample_b)\n",
    "\n",
    "\n",
    "# Calculationg pooled SD \n",
    "if (S_a == S_b):\n",
    "    print(\"Equal populations variances\")\n",
    "    df = n_a + n_b -2\n",
    "    s_p = np.sqrt((((n_a - 1)*(s_a**2) + (n_b - 1)*(s_b**2))/df)*((1/n_a**2)+(1/n_b**2))) \n",
    "else:\n",
    "    print(\"Unequal population variances: Aspin-Welch unequal variance\")\n",
    "    df = (((((s_a**2)/n_a)+((s_b**2)/n_b))**2)/(((((s_a**2)/n_a)**2)/(n_a-1)+((((s_b**2)/n_b)**2)/(n_b-1)))))\n",
    "    s_p = np.sqrt(((s_a**2)/n_a) + ((s_b**2)/n_b)) "
   ]
  },
  {
   "cell_type": "code",
   "execution_count": 20,
   "metadata": {},
   "outputs": [
    {
     "name": "stdout",
     "output_type": "stream",
     "text": [
      "Reject Null Hypothesis\n"
     ]
    }
   ],
   "source": [
    "# Calculationg t-statistic\n",
    "t = (x_a - x_b) - 0 /(s_p)\n",
    "\n",
    "# Calculating critical value\n",
    "p_r = 1 - (ss.t.cdf (t, df)/2)\n",
    "p_l = (ss.t.cdf (t, df)/2)\n",
    "\n",
    "alpha = 0.05\n",
    "\n",
    "if p_r > (alpha/2) and p_l > (alpha/2):\n",
    "    print(\"Failed to Reject Null Hypothesis\")\n",
    "else:\n",
    "    print(\"Reject Null Hypothesis\")"
   ]
  },
  {
   "cell_type": "code",
   "execution_count": 19,
   "metadata": {},
   "outputs": [
    {
     "data": {
      "text/plain": [
       "24.74707945198979"
      ]
     },
     "execution_count": 19,
     "metadata": {},
     "output_type": "execute_result"
    }
   ],
   "source": []
  },
  {
   "cell_type": "code",
   "execution_count": 16,
   "metadata": {},
   "outputs": [
    {
     "data": {
      "text/plain": [
       "2849.9198575100722"
      ]
     },
     "execution_count": 16,
     "metadata": {},
     "output_type": "execute_result"
    }
   ],
   "source": []
  },
  {
   "cell_type": "code",
   "execution_count": null,
   "metadata": {},
   "outputs": [],
   "source": []
  }
 ],
 "metadata": {
  "kernelspec": {
   "display_name": "Python 3",
   "language": "python",
   "name": "python3"
  },
  "language_info": {
   "codemirror_mode": {
    "name": "ipython",
    "version": 3
   },
   "file_extension": ".py",
   "mimetype": "text/x-python",
   "name": "python",
   "nbconvert_exporter": "python",
   "pygments_lexer": "ipython3",
   "version": "3.7.6"
  }
 },
 "nbformat": 4,
 "nbformat_minor": 4
}
