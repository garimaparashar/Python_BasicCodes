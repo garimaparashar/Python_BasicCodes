{
 "cells": [
  {
   "cell_type": "code",
   "execution_count": 1,
   "metadata": {},
   "outputs": [],
   "source": [
    "import numpy as np\n",
    "from random import randint\n",
    "import statistics as stats\n",
    "from scipy.stats import norm"
   ]
  },
  {
   "cell_type": "code",
   "execution_count": 2,
   "metadata": {},
   "outputs": [],
   "source": [
    "# Generating a random population\n",
    "population = []\n",
    "for i in range(0,200):\n",
    "  n = randint(1,1000)\n",
    "  population.append(n)"
   ]
  },
  {
   "cell_type": "code",
   "execution_count": 5,
   "metadata": {},
   "outputs": [],
   "source": [
    "# Picking a random sample\n",
    "sample  = []\n",
    "sample = population[0:35]"
   ]
  },
  {
   "cell_type": "code",
   "execution_count": 6,
   "metadata": {},
   "outputs": [],
   "source": [
    "# Sample and Population Mean\n",
    "x = stats.mean(sample)\n",
    "mu = stats.mean(population)\n",
    "\n",
    "# Standard Deviation of Population  and Sample Size\n",
    "S = stats.stdev(population)\n",
    "s = stats.stdev(sample)\n",
    "N = len(population)\n",
    "n = len(sample)"
   ]
  },
  {
   "cell_type": "code",
   "execution_count": 7,
   "metadata": {},
   "outputs": [
    {
     "name": "stdout",
     "output_type": "stream",
     "text": [
      "Failed to Reject Null Hypothesis\n"
     ]
    }
   ],
   "source": [
    "# Calculation Z-statistics\n",
    "z =  (x - mu)/(S / np.sqrt(n))\n",
    "\n",
    "# Calculating Prob\n",
    "p = 1 - norm.cdf(z)\n",
    "\n",
    "# Define alpha\n",
    "alpha = 0.05\n",
    "\n",
    "# Result\n",
    "if p < alpha:\n",
    "   print(\"Reject Null Hypothesis\")\n",
    "else:\n",
    "   print(\"Failed to Reject Null Hypothesis\")"
   ]
  },
  {
   "cell_type": "code",
   "execution_count": null,
   "metadata": {},
   "outputs": [],
   "source": []
  }
 ],
 "metadata": {
  "kernelspec": {
   "display_name": "Python 3",
   "language": "python",
   "name": "python3"
  },
  "language_info": {
   "codemirror_mode": {
    "name": "ipython",
    "version": 3
   },
   "file_extension": ".py",
   "mimetype": "text/x-python",
   "name": "python",
   "nbconvert_exporter": "python",
   "pygments_lexer": "ipython3",
   "version": "3.7.6"
  }
 },
 "nbformat": 4,
 "nbformat_minor": 4
}
